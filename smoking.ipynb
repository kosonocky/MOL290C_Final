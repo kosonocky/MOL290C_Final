{
 "cells": [
  {
   "cell_type": "code",
   "execution_count": null,
   "metadata": {},
   "outputs": [],
   "source": [
    "from pathlib import Path\n",
    "import pandas as pd\n",
    "import random\n",
    "import os\n",
    "from types import NoneType\n",
    "from typing import Union\n",
    "from logging import Logger\n",
    "from sklearn import preprocessing\n",
    "import numpy as np\n",
    "import plotly.express as px\n",
    "import umap"
   ]
  },
  {
   "cell_type": "code",
   "execution_count": null,
   "metadata": {},
   "outputs": [],
   "source": [
    "# Load features data\n",
    "df = pd.read_csv('smoking_dataset/smoking.csv')"
   ]
  },
  {
   "cell_type": "code",
   "execution_count": null,
   "metadata": {},
   "outputs": [],
   "source": [
    "df = df.replace('M', 0).replace('F', 1).replace('Y',1).replace('N',0)\n",
    "df = df.drop(['ID'], axis=1)\n",
    "df['features'] = df.drop(['smoking'], axis = 1).values.tolist()\n",
    "df.columns"
   ]
  },
  {
   "cell_type": "code",
   "execution_count": null,
   "metadata": {},
   "outputs": [],
   "source": [
    "def seed_everything(seed: Union[int, float] = 42, logger: Logger = None) -> None:\n",
    "    \"\"\"\"\n",
    "    Seed everything so we can reproduce results\n",
    "    \"\"\"\n",
    "    assert isinstance(seed, (int, float))\n",
    "    assert isinstance(logger, (NoneType, Logger))\n",
    "\n",
    "    random.seed(seed)\n",
    "    os.environ['PYTHONHASHSEED'] = str(seed)\n",
    "    np.random.seed(seed)\n",
    "\n",
    "    if logger != None:\n",
    "        logger.debug(f\"[STATUS] Random generators reset with seed: {seed}\")\n",
    "\n",
    "def umap_scatter_plot_nd(df: pd.DataFrame, umap_components:np.ndarray, export_path:Path, color_by: str = 'CB1 Normalized to Max', hover_data = ('Compound'), seed:int=42, logger:Logger=None, fname_identifier:str = 'umap'):\n",
    "    \"\"\"\n",
    "    Takes in df with data & UMAP components. Plots them on an interactive html scatterplot\n",
    "    \n",
    "    \"\"\"\n",
    "    \n",
    "    assert isinstance(df, pd.DataFrame)\n",
    "    assert isinstance(export_path, Path)\n",
    "    assert isinstance(color_by, str)\n",
    "    assert isinstance(fname_identifier, str)\n",
    "    assert isinstance(logger, (NoneType, Logger))\n",
    "    assert color_by in df.columns\n",
    "    \n",
    "    seed_everything(seed = seed, logger=logger)\n",
    "    fig1 = px.scatter(\n",
    "            data_frame=df.sort_values(by=color_by),\n",
    "            color=color_by,\n",
    "            x = 'UMAP_1',\n",
    "            y = 'UMAP_2',\n",
    "            width = 1400,\n",
    "            height= 1024,\n",
    "            # dimensions=[f\"UMAP_{x}\" for x in range(1, umap_components.shape[1] + 1)],\n",
    "            # title=f'{fname_identifier}',\n",
    "            \n",
    "            hover_data=hover_data,\n",
    "            opacity = 0.8\n",
    "        )\n",
    "\n",
    "    export_path.mkdir(parents=True, exist_ok=True)\n",
    "    save_filepath = Path(export_path, f'{fname_identifier}.png')\n",
    "    fig1.write_image(file=save_filepath)\n"
   ]
  },
  {
   "cell_type": "code",
   "execution_count": null,
   "metadata": {},
   "outputs": [],
   "source": [
    "df['features']"
   ]
  },
  {
   "cell_type": "code",
   "execution_count": null,
   "metadata": {},
   "outputs": [],
   "source": [
    "# UMAP & Seed parameters\n",
    "n_components = 2\n",
    "min_dist = 1\n",
    "seed = 42\n",
    "\n",
    "df['gender'] = df['gender'].replace(1,'Female').replace(0,'Male')\n",
    "df['smoking'] = df['smoking'].replace(1,'Yes').replace(0,'No')\n",
    "df['tartar'] = df['tartar'].replace(1,'Yes').replace(0,'No')\n",
    "df['dental caries'] = df['dental caries'].replace(1,'Yes').replace(0,'No')\n",
    "\n",
    "feature_arr = np.stack(df['features'].tolist(), axis=0)\n",
    "scaled_feature_arr = preprocessing.StandardScaler().fit_transform(feature_arr)\n",
    "umap_model = umap.UMAP(n_components=n_components, min_dist=min_dist)\n",
    "umap_components = umap_model.fit_transform(scaled_feature_arr)\n",
    "umap_subset_df = df.join(pd.DataFrame(umap_components, columns=[f\"UMAP_{x}\" for x in range(1, n_components + 1)]))\n",
    "\n"
   ]
  },
  {
   "cell_type": "code",
   "execution_count": null,
   "metadata": {},
   "outputs": [],
   "source": [
    "df = df.drop('features', axis=1)\n",
    "\n",
    "for column in df.columns:\n",
    "    umap_scatter_plot_nd(df = umap_subset_df, \n",
    "                        color_by = column, \n",
    "                        umap_components=umap_components,\n",
    "                        hover_data = (\"smoking\", 'gender', 'age'),\n",
    "                        export_path = Path(), \n",
    "                        seed=seed, \n",
    "                        fname_identifier=f'smoking-umap-3features-{column}')\n"
   ]
  }
 ],
 "metadata": {
  "kernelspec": {
   "display_name": "Python 3.10.6 ('syn_can_2')",
   "language": "python",
   "name": "python3"
  },
  "language_info": {
   "codemirror_mode": {
    "name": "ipython",
    "version": 3
   },
   "file_extension": ".py",
   "mimetype": "text/x-python",
   "name": "python",
   "nbconvert_exporter": "python",
   "pygments_lexer": "ipython3",
   "version": "3.10.6"
  },
  "orig_nbformat": 4,
  "vscode": {
   "interpreter": {
    "hash": "a224b0d093c88e89f276b3a2891c18d6c4d3d0c6a84c9aae3ff7bf376637d642"
   }
  }
 },
 "nbformat": 4,
 "nbformat_minor": 2
}
